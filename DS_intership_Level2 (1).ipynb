{
 "cells": [
  {
   "cell_type": "markdown",
   "id": "b1bcf53a",
   "metadata": {},
   "source": [
    "# LEVEL 2"
   ]
  },
  {
   "cell_type": "markdown",
   "id": "fd0aaa50",
   "metadata": {},
   "source": [
    "# TASK 1"
   ]
  },
  {
   "cell_type": "markdown",
   "id": "2934cbdc",
   "metadata": {},
   "source": [
    "## Task: Table Booking and Online Delivery"
   ]
  },
  {
   "cell_type": "code",
   "execution_count": 1,
   "id": "9ab9ade7",
   "metadata": {},
   "outputs": [],
   "source": [
    "# import important Libraries\n",
    "import os\n",
    "import io\n",
    "import pandas as pd\n",
    "import numpy as np\n",
    "import requests"
   ]
  },
  {
   "cell_type": "code",
   "execution_count": 2,
   "id": "d7ad61b3",
   "metadata": {},
   "outputs": [
    {
     "name": "stdout",
     "output_type": "stream",
     "text": [
      "   Restaurant ID         Restaurant Name  Country Code              City  \\\n",
      "0        6317637        Le Petit Souffle           162       Makati City   \n",
      "1        6304287        Izakaya Kikufuji           162       Makati City   \n",
      "2        6300002  Heat - Edsa Shangri-La           162  Mandaluyong City   \n",
      "3        6318506                    Ooma           162  Mandaluyong City   \n",
      "4        6314302             Sambo Kojin           162  Mandaluyong City   \n",
      "\n",
      "                                             Address  \\\n",
      "0  Third Floor, Century City Mall, Kalayaan Avenu...   \n",
      "1  Little Tokyo, 2277 Chino Roces Avenue, Legaspi...   \n",
      "2  Edsa Shangri-La, 1 Garden Way, Ortigas, Mandal...   \n",
      "3  Third Floor, Mega Fashion Hall, SM Megamall, O...   \n",
      "4  Third Floor, Mega Atrium, SM Megamall, Ortigas...   \n",
      "\n",
      "                                     Locality  \\\n",
      "0   Century City Mall, Poblacion, Makati City   \n",
      "1  Little Tokyo, Legaspi Village, Makati City   \n",
      "2  Edsa Shangri-La, Ortigas, Mandaluyong City   \n",
      "3      SM Megamall, Ortigas, Mandaluyong City   \n",
      "4      SM Megamall, Ortigas, Mandaluyong City   \n",
      "\n",
      "                                    Locality Verbose   Longitude   Latitude  \\\n",
      "0  Century City Mall, Poblacion, Makati City, Mak...  121.027535  14.565443   \n",
      "1  Little Tokyo, Legaspi Village, Makati City, Ma...  121.014101  14.553708   \n",
      "2  Edsa Shangri-La, Ortigas, Mandaluyong City, Ma...  121.056831  14.581404   \n",
      "3  SM Megamall, Ortigas, Mandaluyong City, Mandal...  121.056475  14.585318   \n",
      "4  SM Megamall, Ortigas, Mandaluyong City, Mandal...  121.057508  14.584450   \n",
      "\n",
      "                           Cuisines  ...          Currency Has Table booking  \\\n",
      "0        French, Japanese, Desserts  ...  Botswana Pula(P)               Yes   \n",
      "1                          Japanese  ...  Botswana Pula(P)               Yes   \n",
      "2  Seafood, Asian, Filipino, Indian  ...  Botswana Pula(P)               Yes   \n",
      "3                   Japanese, Sushi  ...  Botswana Pula(P)                No   \n",
      "4                  Japanese, Korean  ...  Botswana Pula(P)               Yes   \n",
      "\n",
      "  Has Online delivery Is delivering now Switch to order menu Price range  \\\n",
      "0                  No                No                   No           3   \n",
      "1                  No                No                   No           3   \n",
      "2                  No                No                   No           4   \n",
      "3                  No                No                   No           4   \n",
      "4                  No                No                   No           4   \n",
      "\n",
      "   Aggregate rating  Rating color Rating text Votes  \n",
      "0               4.8    Dark Green   Excellent   314  \n",
      "1               4.5    Dark Green   Excellent   591  \n",
      "2               4.4         Green   Very Good   270  \n",
      "3               4.9    Dark Green   Excellent   365  \n",
      "4               4.8    Dark Green   Excellent   229  \n",
      "\n",
      "[5 rows x 21 columns]\n"
     ]
    }
   ],
   "source": [
    "# URL to the raw CSV file \n",
    "url = \"https://raw.githubusercontent.com/preethiakshai/Cog_intership/main/Dataset%20.csv\"\n",
    "\n",
    "# Read the CSV file\n",
    "try:\n",
    "    data = pd.read_csv(url, on_bad_lines='skip')  # Skipping bad lines if there are any issues\n",
    "    print(data.head())  # Display the first few rows to ensure it loaded correctly\n",
    "except pd.errors.ParserError as e:\n",
    "    print(f\"ParserError: {e}\")\n"
   ]
  },
  {
   "cell_type": "code",
   "execution_count": 3,
   "id": "4aaf1af9",
   "metadata": {},
   "outputs": [
    {
     "data": {
      "text/html": [
       "<div>\n",
       "<style scoped>\n",
       "    .dataframe tbody tr th:only-of-type {\n",
       "        vertical-align: middle;\n",
       "    }\n",
       "\n",
       "    .dataframe tbody tr th {\n",
       "        vertical-align: top;\n",
       "    }\n",
       "\n",
       "    .dataframe thead th {\n",
       "        text-align: right;\n",
       "    }\n",
       "</style>\n",
       "<table border=\"1\" class=\"dataframe\">\n",
       "  <thead>\n",
       "    <tr style=\"text-align: right;\">\n",
       "      <th></th>\n",
       "      <th>Restaurant ID</th>\n",
       "      <th>Country Code</th>\n",
       "      <th>Longitude</th>\n",
       "      <th>Latitude</th>\n",
       "      <th>Average Cost for two</th>\n",
       "      <th>Price range</th>\n",
       "      <th>Aggregate rating</th>\n",
       "      <th>Votes</th>\n",
       "    </tr>\n",
       "  </thead>\n",
       "  <tbody>\n",
       "    <tr>\n",
       "      <th>count</th>\n",
       "      <td>9.551000e+03</td>\n",
       "      <td>9551.000000</td>\n",
       "      <td>9551.000000</td>\n",
       "      <td>9551.000000</td>\n",
       "      <td>9551.000000</td>\n",
       "      <td>9551.000000</td>\n",
       "      <td>9551.000000</td>\n",
       "      <td>9551.000000</td>\n",
       "    </tr>\n",
       "    <tr>\n",
       "      <th>mean</th>\n",
       "      <td>9.051128e+06</td>\n",
       "      <td>18.365616</td>\n",
       "      <td>64.126574</td>\n",
       "      <td>25.854381</td>\n",
       "      <td>1199.210763</td>\n",
       "      <td>1.804837</td>\n",
       "      <td>2.666370</td>\n",
       "      <td>156.909748</td>\n",
       "    </tr>\n",
       "    <tr>\n",
       "      <th>std</th>\n",
       "      <td>8.791521e+06</td>\n",
       "      <td>56.750546</td>\n",
       "      <td>41.467058</td>\n",
       "      <td>11.007935</td>\n",
       "      <td>16121.183073</td>\n",
       "      <td>0.905609</td>\n",
       "      <td>1.516378</td>\n",
       "      <td>430.169145</td>\n",
       "    </tr>\n",
       "    <tr>\n",
       "      <th>min</th>\n",
       "      <td>5.300000e+01</td>\n",
       "      <td>1.000000</td>\n",
       "      <td>-157.948486</td>\n",
       "      <td>-41.330428</td>\n",
       "      <td>0.000000</td>\n",
       "      <td>1.000000</td>\n",
       "      <td>0.000000</td>\n",
       "      <td>0.000000</td>\n",
       "    </tr>\n",
       "    <tr>\n",
       "      <th>25%</th>\n",
       "      <td>3.019625e+05</td>\n",
       "      <td>1.000000</td>\n",
       "      <td>77.081343</td>\n",
       "      <td>28.478713</td>\n",
       "      <td>250.000000</td>\n",
       "      <td>1.000000</td>\n",
       "      <td>2.500000</td>\n",
       "      <td>5.000000</td>\n",
       "    </tr>\n",
       "    <tr>\n",
       "      <th>50%</th>\n",
       "      <td>6.004089e+06</td>\n",
       "      <td>1.000000</td>\n",
       "      <td>77.191964</td>\n",
       "      <td>28.570469</td>\n",
       "      <td>400.000000</td>\n",
       "      <td>2.000000</td>\n",
       "      <td>3.200000</td>\n",
       "      <td>31.000000</td>\n",
       "    </tr>\n",
       "    <tr>\n",
       "      <th>75%</th>\n",
       "      <td>1.835229e+07</td>\n",
       "      <td>1.000000</td>\n",
       "      <td>77.282006</td>\n",
       "      <td>28.642758</td>\n",
       "      <td>700.000000</td>\n",
       "      <td>2.000000</td>\n",
       "      <td>3.700000</td>\n",
       "      <td>131.000000</td>\n",
       "    </tr>\n",
       "    <tr>\n",
       "      <th>max</th>\n",
       "      <td>1.850065e+07</td>\n",
       "      <td>216.000000</td>\n",
       "      <td>174.832089</td>\n",
       "      <td>55.976980</td>\n",
       "      <td>800000.000000</td>\n",
       "      <td>4.000000</td>\n",
       "      <td>4.900000</td>\n",
       "      <td>10934.000000</td>\n",
       "    </tr>\n",
       "  </tbody>\n",
       "</table>\n",
       "</div>"
      ],
      "text/plain": [
       "       Restaurant ID  Country Code    Longitude     Latitude  \\\n",
       "count   9.551000e+03   9551.000000  9551.000000  9551.000000   \n",
       "mean    9.051128e+06     18.365616    64.126574    25.854381   \n",
       "std     8.791521e+06     56.750546    41.467058    11.007935   \n",
       "min     5.300000e+01      1.000000  -157.948486   -41.330428   \n",
       "25%     3.019625e+05      1.000000    77.081343    28.478713   \n",
       "50%     6.004089e+06      1.000000    77.191964    28.570469   \n",
       "75%     1.835229e+07      1.000000    77.282006    28.642758   \n",
       "max     1.850065e+07    216.000000   174.832089    55.976980   \n",
       "\n",
       "       Average Cost for two  Price range  Aggregate rating         Votes  \n",
       "count           9551.000000  9551.000000       9551.000000   9551.000000  \n",
       "mean            1199.210763     1.804837          2.666370    156.909748  \n",
       "std            16121.183073     0.905609          1.516378    430.169145  \n",
       "min                0.000000     1.000000          0.000000      0.000000  \n",
       "25%              250.000000     1.000000          2.500000      5.000000  \n",
       "50%              400.000000     2.000000          3.200000     31.000000  \n",
       "75%              700.000000     2.000000          3.700000    131.000000  \n",
       "max           800000.000000     4.000000          4.900000  10934.000000  "
      ]
     },
     "execution_count": 3,
     "metadata": {},
     "output_type": "execute_result"
    }
   ],
   "source": [
    "data.describe()"
   ]
  },
  {
   "cell_type": "code",
   "execution_count": 4,
   "id": "d47e6f73",
   "metadata": {},
   "outputs": [
    {
     "data": {
      "text/plain": [
       "['Restaurant ID',\n",
       " 'Restaurant Name',\n",
       " 'Country Code',\n",
       " 'City',\n",
       " 'Address',\n",
       " 'Locality',\n",
       " 'Locality Verbose',\n",
       " 'Longitude',\n",
       " 'Latitude',\n",
       " 'Cuisines',\n",
       " 'Average Cost for two',\n",
       " 'Currency',\n",
       " 'Has Table booking',\n",
       " 'Has Online delivery',\n",
       " 'Is delivering now',\n",
       " 'Switch to order menu',\n",
       " 'Price range',\n",
       " 'Aggregate rating',\n",
       " 'Rating color',\n",
       " 'Rating text',\n",
       " 'Votes']"
      ]
     },
     "execution_count": 4,
     "metadata": {},
     "output_type": "execute_result"
    }
   ],
   "source": [
    "data.columns.tolist()"
   ]
  },
  {
   "cell_type": "markdown",
   "id": "546f924d",
   "metadata": {},
   "source": [
    "### Check for missing values in each column and handle them accordingly."
   ]
  },
  {
   "cell_type": "code",
   "execution_count": 5,
   "id": "05805129",
   "metadata": {
    "scrolled": true
   },
   "outputs": [
    {
     "data": {
      "text/plain": [
       "Restaurant ID           0\n",
       "Restaurant Name         0\n",
       "Country Code            0\n",
       "City                    0\n",
       "Address                 0\n",
       "Locality                0\n",
       "Locality Verbose        0\n",
       "Longitude               0\n",
       "Latitude                0\n",
       "Cuisines                9\n",
       "Average Cost for two    0\n",
       "Currency                0\n",
       "Has Table booking       0\n",
       "Has Online delivery     0\n",
       "Is delivering now       0\n",
       "Switch to order menu    0\n",
       "Price range             0\n",
       "Aggregate rating        0\n",
       "Rating color            0\n",
       "Rating text             0\n",
       "Votes                   0\n",
       "dtype: int64"
      ]
     },
     "execution_count": 5,
     "metadata": {},
     "output_type": "execute_result"
    }
   ],
   "source": [
    "data.isnull().sum()"
   ]
  },
  {
   "cell_type": "code",
   "execution_count": 6,
   "id": "f42b08c0",
   "metadata": {},
   "outputs": [
    {
     "name": "stdout",
     "output_type": "stream",
     "text": [
      "Number of rows with missing 'Cuisines': 9\n"
     ]
    }
   ],
   "source": [
    "# Identify rows with missing values in 'Cuisines' column\n",
    "missing_cuisines_count = data['Cuisines'].isnull().sum()\n",
    "print(f\"Number of rows with missing 'Cuisines': {missing_cuisines_count}\")"
   ]
  },
  {
   "cell_type": "code",
   "execution_count": 7,
   "id": "33eb8d3f",
   "metadata": {},
   "outputs": [
    {
     "data": {
      "text/plain": [
       "count             9542\n",
       "unique            1825\n",
       "top       North Indian\n",
       "freq               936\n",
       "Name: Cuisines, dtype: object"
      ]
     },
     "execution_count": 7,
     "metadata": {},
     "output_type": "execute_result"
    }
   ],
   "source": [
    "data['Cuisines'].describe()"
   ]
  },
  {
   "cell_type": "code",
   "execution_count": 8,
   "id": "59841f17",
   "metadata": {},
   "outputs": [
    {
     "name": "stdout",
     "output_type": "stream",
     "text": [
      "Mode of 'Cuisines': North Indian\n"
     ]
    }
   ],
   "source": [
    "#Calculate the mode of the 'Cuisines' column\n",
    "cuisines_mode = data['Cuisines'].mode()[0]\n",
    "print(f\"Mode of 'Cuisines': {cuisines_mode}\")\n"
   ]
  },
  {
   "cell_type": "code",
   "execution_count": 9,
   "id": "dcd74d86",
   "metadata": {},
   "outputs": [],
   "source": [
    "# Replace missing values with the mode\n",
    "data['Cuisines'].fillna(cuisines_mode, inplace=True)\n",
    "\n"
   ]
  },
  {
   "cell_type": "code",
   "execution_count": 10,
   "id": "276e9d80",
   "metadata": {},
   "outputs": [
    {
     "name": "stdout",
     "output_type": "stream",
     "text": [
      "Restaurant ID           0\n",
      "Restaurant Name         0\n",
      "Country Code            0\n",
      "City                    0\n",
      "Address                 0\n",
      "Locality                0\n",
      "Locality Verbose        0\n",
      "Longitude               0\n",
      "Latitude                0\n",
      "Cuisines                0\n",
      "Average Cost for two    0\n",
      "Currency                0\n",
      "Has Table booking       0\n",
      "Has Online delivery     0\n",
      "Is delivering now       0\n",
      "Switch to order menu    0\n",
      "Price range             0\n",
      "Aggregate rating        0\n",
      "Rating color            0\n",
      "Rating text             0\n",
      "Votes                   0\n",
      "dtype: int64\n"
     ]
    }
   ],
   "source": [
    "# Verify the missing values are handled\n",
    "print(data.isnull().sum())\n"
   ]
  },
  {
   "cell_type": "markdown",
   "id": "7c4370ab",
   "metadata": {},
   "source": [
    "#### Perform data type conversion if necessary. Analyze the distribution of the target variable(\"Aggregate rating\") and identify any class imbalances"
   ]
  },
  {
   "cell_type": "code",
   "execution_count": 11,
   "id": "ff63442e",
   "metadata": {},
   "outputs": [
    {
     "name": "stdout",
     "output_type": "stream",
     "text": [
      "\n",
      "Data types of each column:\n",
      "Restaurant ID             int64\n",
      "Restaurant Name          object\n",
      "Country Code              int64\n",
      "City                     object\n",
      "Address                  object\n",
      "Locality                 object\n",
      "Locality Verbose         object\n",
      "Longitude               float64\n",
      "Latitude                float64\n",
      "Cuisines                 object\n",
      "Average Cost for two      int64\n",
      "Currency                 object\n",
      "Has Table booking        object\n",
      "Has Online delivery      object\n",
      "Is delivering now        object\n",
      "Switch to order menu     object\n",
      "Price range               int64\n",
      "Aggregate rating        float64\n",
      "Rating color             object\n",
      "Rating text              object\n",
      "Votes                     int64\n",
      "dtype: object\n"
     ]
    }
   ],
   "source": [
    "# Display data types of each column\n",
    "print(\"\\nData types of each column:\")\n",
    "print(data.dtypes)"
   ]
  },
  {
   "cell_type": "code",
   "execution_count": 12,
   "id": "55be866c",
   "metadata": {},
   "outputs": [
    {
     "data": {
      "text/plain": [
       "array(['Yes', 'No'], dtype=object)"
      ]
     },
     "execution_count": 12,
     "metadata": {},
     "output_type": "execute_result"
    }
   ],
   "source": [
    "data['Has Table booking'].unique()"
   ]
  },
  {
   "cell_type": "code",
   "execution_count": 13,
   "id": "9a9cee36",
   "metadata": {},
   "outputs": [
    {
     "data": {
      "text/plain": [
       "array(['No', 'Yes'], dtype=object)"
      ]
     },
     "execution_count": 13,
     "metadata": {},
     "output_type": "execute_result"
    }
   ],
   "source": [
    "data['Has Online delivery'].unique()"
   ]
  },
  {
   "cell_type": "code",
   "execution_count": 14,
   "id": "cc355336",
   "metadata": {},
   "outputs": [
    {
     "data": {
      "text/plain": [
       "array(['No', 'Yes'], dtype=object)"
      ]
     },
     "execution_count": 14,
     "metadata": {},
     "output_type": "execute_result"
    }
   ],
   "source": [
    "data['Is delivering now'].unique()"
   ]
  },
  {
   "cell_type": "code",
   "execution_count": 15,
   "id": "d6fa3e90",
   "metadata": {},
   "outputs": [
    {
     "data": {
      "text/plain": [
       "array(['No'], dtype=object)"
      ]
     },
     "execution_count": 15,
     "metadata": {},
     "output_type": "execute_result"
    }
   ],
   "source": [
    "data['Switch to order menu'].unique()"
   ]
  },
  {
   "cell_type": "code",
   "execution_count": 16,
   "id": "60f0167c",
   "metadata": {},
   "outputs": [
    {
     "data": {
      "text/plain": [
       "array([4.8, 4.5, 4.4, 4.9, 4. , 4.2, 4.3, 3.6, 4.7, 3. , 3.8, 3.7, 3.2,\n",
       "       3.1, 0. , 4.1, 3.3, 4.6, 3.9, 3.4, 3.5, 2.2, 2.9, 2.4, 2.6, 2.8,\n",
       "       2.1, 2.7, 2.5, 1.8, 2. , 2.3, 1.9])"
      ]
     },
     "execution_count": 16,
     "metadata": {},
     "output_type": "execute_result"
    }
   ],
   "source": [
    "data['Aggregate rating'].unique()"
   ]
  },
  {
   "cell_type": "markdown",
   "id": "2050f87a",
   "metadata": {},
   "source": [
    "### Determine the percentage of restaurants thatoffer table booking and online delivery."
   ]
  },
  {
   "cell_type": "code",
   "execution_count": 17,
   "id": "591737b7",
   "metadata": {},
   "outputs": [
    {
     "name": "stdout",
     "output_type": "stream",
     "text": [
      "Percentage of restaurants offering table booking:\n",
      " 12.12% of restaurants offering Table Booking\n",
      " 87.88% of restaurants does not offering Table Booking\n"
     ]
    }
   ],
   "source": [
    "# Calculate the percentage of restaurants offering table booking\n",
    "table_booking_counts = data['Has Table booking'].value_counts(normalize=True) * 100\n",
    "table_booking_percentages = table_booking_counts.to_dict()\n",
    "print(\"Percentage of restaurants offering table booking:\")\n",
    "print(f\" {table_booking_percentages.get('Yes', 0):.2f}% of restaurants offering Table Booking\")\n",
    "print(f\" {table_booking_percentages.get('No', 0):.2f}% of restaurants does not offering Table Booking\")"
   ]
  },
  {
   "cell_type": "code",
   "execution_count": 18,
   "id": "f4ffb255",
   "metadata": {},
   "outputs": [
    {
     "name": "stdout",
     "output_type": "stream",
     "text": [
      "Percentage of restaurants offering online delivery:\n",
      " 25.66% of restaurants offering online dekivery \n",
      " 74.34% of restaurants doesnot offering online delivery\n"
     ]
    }
   ],
   "source": [
    "# Calculate the percentage of restaurants offering online delivery\n",
    "online_delivery_counts = data['Has Online delivery'].value_counts(normalize=True) * 100\n",
    "online_delivery_percentages = online_delivery_counts.to_dict()\n",
    "\n",
    "print(\"Percentage of restaurants offering online delivery:\")\n",
    "print(f\" {online_delivery_percentages.get('Yes', 0):.2f}% of restaurants offering online dekivery \")\n",
    "print(f\" {online_delivery_percentages.get('No', 0):.2f}% of restaurants doesnot offering online delivery\")"
   ]
  },
  {
   "cell_type": "markdown",
   "id": "23b98949",
   "metadata": {},
   "source": [
    "### Compare the average ratings of restaurants with table booking and those without."
   ]
  },
  {
   "cell_type": "code",
   "execution_count": 19,
   "id": "ea02eb32",
   "metadata": {},
   "outputs": [
    {
     "name": "stdout",
     "output_type": "stream",
     "text": [
      "Average Aggregate Rating based on Table Booking:\n",
      "Has Table booking\n",
      "No     2.559359\n",
      "Yes    3.441969\n",
      "Name: Aggregate rating, dtype: float64\n"
     ]
    }
   ],
   "source": [
    "# Group by 'Has Table booking' and calculate the mean of 'Aggregate rating'\n",
    "average_ratings_table_booking = data.groupby('Has Table booking')['Aggregate rating'].mean()\n",
    "# Print the results\n",
    "print(\"Average Aggregate Rating based on Table Booking:\")\n",
    "print(average_ratings_table_booking)\n"
   ]
  },
  {
   "cell_type": "code",
   "execution_count": 20,
   "id": "417ccd19",
   "metadata": {},
   "outputs": [
    {
     "data": {
      "image/png": "[encoded data removed]",
      "text/plain": [
       "<Figure size 800x800 with 1 Axes>"
      ]
     },
     "metadata": {},
     "output_type": "display_data"
    }
   ],
   "source": [
    "import matplotlib.pyplot as plt\n",
    "\n",
    "# Prepare data for pie chart\n",
    "labels = average_ratings_table_booking.index\n",
    "sizes = average_ratings_table_booking.values\n",
    "colors = ['#ff9999','#66b3ff']\n",
    "explode = (0.1, 0)  # explode the 1st slice (if required)\n",
    "\n",
    "# Create a pie chart\n",
    "plt.figure(figsize=(8, 8))\n",
    "plt.pie(sizes, explode=explode, labels=labels, colors=colors, autopct='%1.1f%%',\n",
    "        shadow=True, startangle=140)\n",
    "plt.title('Average Aggregate Rating Based on Table Booking')\n",
    "plt.axis('equal')  # Equal aspect ratio ensures that pie is drawn as a circle.\n",
    "plt.show()"
   ]
  },
  {
   "cell_type": "markdown",
   "id": "59ce1812",
   "metadata": {},
   "source": [
    "Based on the data analysis, restaurants that offer table booking have an average aggregate rating of 3.44, while those that do not offer table booking have a lower average aggregate rating of 2.56. This indicates that restaurants with table booking tend to receive higher ratings on average compared to those without table booking."
   ]
  },
  {
   "cell_type": "markdown",
   "id": "bd1de426",
   "metadata": {},
   "source": [
    "###  Analyze the availability of online delivery among restaurants with different price ranges"
   ]
  },
  {
   "cell_type": "code",
   "execution_count": 21,
   "id": "88d6b338",
   "metadata": {},
   "outputs": [
    {
     "data": {
      "text/html": [
       "<div>\n",
       "<style scoped>\n",
       "    .dataframe tbody tr th:only-of-type {\n",
       "        vertical-align: middle;\n",
       "    }\n",
       "\n",
       "    .dataframe tbody tr th {\n",
       "        vertical-align: top;\n",
       "    }\n",
       "\n",
       "    .dataframe thead th {\n",
       "        text-align: right;\n",
       "    }\n",
       "</style>\n",
       "<table border=\"1\" class=\"dataframe\">\n",
       "  <thead>\n",
       "    <tr style=\"text-align: right;\">\n",
       "      <th>Has Online delivery</th>\n",
       "      <th>No</th>\n",
       "      <th>Yes</th>\n",
       "    </tr>\n",
       "    <tr>\n",
       "      <th>Price range</th>\n",
       "      <th></th>\n",
       "      <th></th>\n",
       "    </tr>\n",
       "  </thead>\n",
       "  <tbody>\n",
       "    <tr>\n",
       "      <th>1</th>\n",
       "      <td>3743</td>\n",
       "      <td>701</td>\n",
       "    </tr>\n",
       "    <tr>\n",
       "      <th>2</th>\n",
       "      <td>1827</td>\n",
       "      <td>1286</td>\n",
       "    </tr>\n",
       "    <tr>\n",
       "      <th>3</th>\n",
       "      <td>997</td>\n",
       "      <td>411</td>\n",
       "    </tr>\n",
       "    <tr>\n",
       "      <th>4</th>\n",
       "      <td>533</td>\n",
       "      <td>53</td>\n",
       "    </tr>\n",
       "  </tbody>\n",
       "</table>\n",
       "</div>"
      ],
      "text/plain": [
       "Has Online delivery    No   Yes\n",
       "Price range                    \n",
       "1                    3743   701\n",
       "2                    1827  1286\n",
       "3                     997   411\n",
       "4                     533    53"
      ]
     },
     "execution_count": 21,
     "metadata": {},
     "output_type": "execute_result"
    }
   ],
   "source": [
    "# Group by 'Price range' and 'Has Online delivery' and count the number of restaurants in each group\n",
    "online_delivery_by_price_range = data.groupby(['Price range', 'Has Online delivery']).size().unstack(fill_value=0)\n",
    "online_delivery_by_price_range\n"
   ]
  },
  {
   "cell_type": "code",
   "execution_count": 22,
   "id": "176063dd",
   "metadata": {},
   "outputs": [
    {
     "name": "stdout",
     "output_type": "stream",
     "text": [
      "Percentage of online delivery among restarant with price range\n",
      " Has Online delivery         No        Yes\n",
      "Price range                              \n",
      "1                    84.225923  15.774077\n",
      "2                    58.689367  41.310633\n",
      "3                    70.809659  29.190341\n",
      "4                    90.955631   9.044369\n"
     ]
    }
   ],
   "source": [
    "# Calculate the proportion of restaurants offering online delivery in each price range\n",
    "online_delivery_proportion = online_delivery_by_price_range.div(online_delivery_by_price_range.sum(axis=1), axis=0)*100\n",
    "online_delivery_proportion\n",
    "print(\"Percentage of online delivery among restarant with price range\\n\",online_delivery_proportion)"
   ]
  },
  {
   "cell_type": "code",
   "execution_count": 23,
   "id": "63aa80cf",
   "metadata": {},
   "outputs": [
    {
     "data": {
      "image/png": "[encoded data removed]",
      "text/plain": [
       "<Figure size 1200x800 with 1 Axes>"
      ]
     },
     "metadata": {},
     "output_type": "display_data"
    }
   ],
   "source": [
    "# Visualize the results using a bar plot\n",
    "online_delivery_proportion.plot(kind='bar', stacked=True, figsize=(12, 8), color=['#ff9999','#66b3ff'])\n",
    "plt.title('Availability of Online Delivery among Restaurants with Different Price Ranges')\n",
    "plt.xlabel('Price Range')\n",
    "plt.ylabel('Proportion of Restaurants')\n",
    "plt.legend(title='Has Online Delivery')\n",
    "plt.show()"
   ]
  },
  {
   "cell_type": "markdown",
   "id": "9ca29db3",
   "metadata": {},
   "source": [
    "# Task 2\n"
   ]
  },
  {
   "cell_type": "markdown",
   "id": "0c442be3",
   "metadata": {},
   "source": [
    "## Task: Price Range Analysis"
   ]
  },
  {
   "cell_type": "markdown",
   "id": "ee378885",
   "metadata": {},
   "source": [
    "### Determine the most common price rangeamong all the restaurants."
   ]
  },
  {
   "cell_type": "code",
   "execution_count": 24,
   "id": "0fd5506c",
   "metadata": {},
   "outputs": [
    {
     "data": {
      "text/plain": [
       "Price range\n",
       "1    4444\n",
       "2    3113\n",
       "3    1408\n",
       "4     586\n",
       "Name: count, dtype: int64"
      ]
     },
     "execution_count": 24,
     "metadata": {},
     "output_type": "execute_result"
    }
   ],
   "source": [
    "# Group by 'Price range' and count the number of restaurants in each group\n",
    "price_range_counts = data['Price range'].value_counts()\n",
    "price_range_counts"
   ]
  },
  {
   "cell_type": "code",
   "execution_count": 25,
   "id": "9c8ccc43",
   "metadata": {},
   "outputs": [],
   "source": [
    "# Identify the most common price range\n",
    "most_common_price_range = price_range_counts.idxmax()\n",
    "most_common_price_range_count = price_range_counts.max()"
   ]
  },
  {
   "cell_type": "code",
   "execution_count": 26,
   "id": "436aaf9f",
   "metadata": {},
   "outputs": [
    {
     "name": "stdout",
     "output_type": "stream",
     "text": [
      "The most common price range among all the restaurants is 1, with 4444 restaurants.\n"
     ]
    }
   ],
   "source": [
    "# Print the results\n",
    "print(f\"The most common price range among all the restaurants is {most_common_price_range}, with {most_common_price_range_count} restaurants.\")"
   ]
  },
  {
   "cell_type": "markdown",
   "id": "fbcaea5b",
   "metadata": {},
   "source": [
    " ### Calculate the average rating for each price range"
   ]
  },
  {
   "cell_type": "code",
   "execution_count": 27,
   "id": "3b1a1e22",
   "metadata": {},
   "outputs": [
    {
     "name": "stdout",
     "output_type": "stream",
     "text": [
      "Average Aggregate Rating for Each Price Range:\n",
      "Price range\n",
      "1    1.999887\n",
      "2    2.941054\n",
      "3    3.683381\n",
      "4    3.817918\n",
      "Name: Aggregate rating, dtype: float64\n"
     ]
    }
   ],
   "source": [
    "# Group by 'Price range' and calculate the mean of 'Aggregate rating'\n",
    "average_rating_by_price_range = data.groupby('Price range')['Aggregate rating'].mean()\n",
    "\n",
    "# Print the results\n",
    "print(\"Average Aggregate Rating for Each Price Range:\")\n",
    "print(average_rating_by_price_range)"
   ]
  },
  {
   "cell_type": "markdown",
   "id": "3b72450a",
   "metadata": {},
   "source": [
    "### Identify the color that represents the highest average rating among different price ranges"
   ]
  },
  {
   "cell_type": "code",
   "execution_count": 28,
   "id": "995b8c35",
   "metadata": {},
   "outputs": [
    {
     "name": "stdout",
     "output_type": "stream",
     "text": [
      "The color that represents the highest average rating among different price ranges is 'Yellow' for the price range 4.\n"
     ]
    }
   ],
   "source": [
    "# Find the price range with the highest average rating\n",
    "highest_avg_rating_price_range = average_rating_by_price_range.idxmax()\n",
    "\n",
    "# Find the corresponding rating color for the highest average rating price range\n",
    "highest_avg_rating_color = data[data['Price range'] == highest_avg_rating_price_range]['Rating color'].mode()[0]\n",
    "\n",
    "# Print the results\n",
    "print(f\"The color that represents the highest average rating among different price ranges is '{highest_avg_rating_color}' for the price range {highest_avg_rating_price_range}.\")"
   ]
  },
  {
   "cell_type": "markdown",
   "id": "5248c8d0",
   "metadata": {},
   "source": [
    "# TASK 3"
   ]
  },
  {
   "cell_type": "markdown",
   "id": "10c0f01c",
   "metadata": {},
   "source": [
    "## TASK : FEATURE ENGINEERING"
   ]
  },
  {
   "cell_type": "code",
   "execution_count": 29,
   "id": "77568a34",
   "metadata": {},
   "outputs": [
    {
     "name": "stdout",
     "output_type": "stream",
     "text": [
      "   Restaurant ID         Restaurant Name  Country Code              City  \\\n",
      "0        6317637        Le Petit Souffle           162       Makati City   \n",
      "1        6304287        Izakaya Kikufuji           162       Makati City   \n",
      "2        6300002  Heat - Edsa Shangri-La           162  Mandaluyong City   \n",
      "3        6318506                    Ooma           162  Mandaluyong City   \n",
      "4        6314302             Sambo Kojin           162  Mandaluyong City   \n",
      "\n",
      "                                             Address  \\\n",
      "0  Third Floor, Century City Mall, Kalayaan Avenu...   \n",
      "1  Little Tokyo, 2277 Chino Roces Avenue, Legaspi...   \n",
      "2  Edsa Shangri-La, 1 Garden Way, Ortigas, Mandal...   \n",
      "3  Third Floor, Mega Fashion Hall, SM Megamall, O...   \n",
      "4  Third Floor, Mega Atrium, SM Megamall, Ortigas...   \n",
      "\n",
      "                                     Locality  \\\n",
      "0   Century City Mall, Poblacion, Makati City   \n",
      "1  Little Tokyo, Legaspi Village, Makati City   \n",
      "2  Edsa Shangri-La, Ortigas, Mandaluyong City   \n",
      "3      SM Megamall, Ortigas, Mandaluyong City   \n",
      "4      SM Megamall, Ortigas, Mandaluyong City   \n",
      "\n",
      "                                    Locality Verbose   Longitude   Latitude  \\\n",
      "0  Century City Mall, Poblacion, Makati City, Mak...  121.027535  14.565443   \n",
      "1  Little Tokyo, Legaspi Village, Makati City, Ma...  121.014101  14.553708   \n",
      "2  Edsa Shangri-La, Ortigas, Mandaluyong City, Ma...  121.056831  14.581404   \n",
      "3  SM Megamall, Ortigas, Mandaluyong City, Mandal...  121.056475  14.585318   \n",
      "4  SM Megamall, Ortigas, Mandaluyong City, Mandal...  121.057508  14.584450   \n",
      "\n",
      "                           Cuisines  ...  Has Online delivery  \\\n",
      "0        French, Japanese, Desserts  ...                   No   \n",
      "1                          Japanese  ...                   No   \n",
      "2  Seafood, Asian, Filipino, Indian  ...                   No   \n",
      "3                   Japanese, Sushi  ...                   No   \n",
      "4                  Japanese, Korean  ...                   No   \n",
      "\n",
      "  Is delivering now Switch to order menu Price range Aggregate rating  \\\n",
      "0                No                   No           3              4.8   \n",
      "1                No                   No           3              4.5   \n",
      "2                No                   No           4              4.4   \n",
      "3                No                   No           4              4.9   \n",
      "4                No                   No           4              4.8   \n",
      "\n",
      "  Rating color  Rating text  Votes Restaurant Name Length Address Length  \n",
      "0   Dark Green    Excellent    314                     16             71  \n",
      "1   Dark Green    Excellent    591                     16             67  \n",
      "2        Green    Very Good    270                     22             56  \n",
      "3   Dark Green    Excellent    365                      4             70  \n",
      "4   Dark Green    Excellent    229                     11             64  \n",
      "\n",
      "[5 rows x 23 columns]\n"
     ]
    }
   ],
   "source": [
    "# Extract the length of the restaurant name\n",
    "data['Restaurant Name Length'] = data['Restaurant Name'].apply(len)\n",
    "\n",
    "# Extract the length of the address\n",
    "data['Address Length'] = data['Address'].apply(len)\n",
    "\n",
    "# Display the first few rows to verify the new columns\n",
    "print(data.head())"
   ]
  },
  {
   "cell_type": "markdown",
   "id": "22ef637e",
   "metadata": {},
   "source": [
    "### Create new features like \"Has Table Booking\"or \"Has Online Delivery\" by encoding categorical variables."
   ]
  },
  {
   "cell_type": "code",
   "execution_count": 37,
   "id": "55541c10",
   "metadata": {},
   "outputs": [
    {
     "name": "stdout",
     "output_type": "stream",
     "text": [
      "  Has Table booking  Has Table Booking\n",
      "0               Yes                  1\n",
      "1               Yes                  1\n",
      "2               Yes                  1\n",
      "3                No                  0\n",
      "4               Yes                  1\n"
     ]
    }
   ],
   "source": [
    "# binary encoding for 'Has  table booking'\n",
    "data['Has Table Booking']=data['Has Table booking'].apply(lambda x: 1 if x=='Yes' else 0)\n",
    "print(data[['Has Table booking','Has Table Booking']].head(5))"
   ]
  },
  {
   "cell_type": "code",
   "execution_count": 39,
   "id": "000f3d69",
   "metadata": {},
   "outputs": [
    {
     "name": "stdout",
     "output_type": "stream",
     "text": [
      "  Has Online delivery  Has Online Delivery\n",
      "0                  No                    0\n",
      "1                  No                    0\n",
      "2                  No                    0\n",
      "3                  No                    0\n",
      "4                  No                    0\n"
     ]
    }
   ],
   "source": [
    "# Binary encoding for 'Has Online Delivery'\n",
    "data['Has Online Delivery'] = data['Has Online delivery'].apply(lambda x: 1 if x == 'Yes' else 0)\n",
    "print(data[['Has Online delivery','Has Online Delivery']].head(5))"
   ]
  },
  {
   "cell_type": "code",
   "execution_count": 40,
   "id": "7750ec26",
   "metadata": {},
   "outputs": [
    {
     "name": "stdout",
     "output_type": "stream",
     "text": [
      "  Is delivering now  Is Delivering Now\n",
      "0                No                  0\n",
      "1                No                  0\n",
      "2                No                  0\n",
      "3                No                  0\n",
      "4                No                  0\n"
     ]
    }
   ],
   "source": [
    "# Binary encoding for 'Is delivering now'\n",
    "data['Is Delivering Now'] = data['Is delivering now'].apply(lambda x: 1 if x == 'Yes' else 0)\n",
    "print(data[['Is delivering now','Is Delivering Now']].head(5))"
   ]
  },
  {
   "cell_type": "code",
   "execution_count": null,
   "id": "25d5360e",
   "metadata": {},
   "outputs": [],
   "source": []
  }
 ],
 "metadata": {
  "kernelspec": {
   "display_name": "Python 3 (ipykernel)",
   "language": "python",
   "name": "python3"
  },
  "language_info": {
   "codemirror_mode": {
    "name": "ipython",
    "version": 3
   },
   "file_extension": ".py",
   "mimetype": "text/x-python",
   "name": "python",
   "nbconvert_exporter": "python",
   "pygments_lexer": "ipython3",
   "version": "3.8.0"
  }
 },
 "nbformat": 4,
 "nbformat_minor": 5
}
